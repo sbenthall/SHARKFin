{
 "cells": [
  {
   "cell_type": "code",
   "execution_count": 1,
   "id": "50f877f2",
   "metadata": {},
   "outputs": [],
   "source": [
    "import os\n",
    "import uuid\n",
    "from azure.servicebus import ServiceBusClient, ServiceBusMessage\n",
    "from azure.servicebus.management import ServiceBusAdministrationClient\n",
    "CONNECTION_STR = 'Endpoint=sb://sharkfinmq.servicebus.windows.net/;SharedAccessKeyName=brokerDev;SharedAccessKey=ethbk8ZhqarR89v455j9psqsBPPa/CcjdtxZY7+3vVw='\n"
   ]
  },
  {
   "cell_type": "code",
   "execution_count": 2,
   "id": "472f8192",
   "metadata": {},
   "outputs": [],
   "source": [
    "def create_queue(servicebus_mgmt_client, qname):\n",
    "    print(\"-- Create Queue\")\n",
    "    #qname = qname + \"_\" + QUEUE_ID\n",
    "    servicebus_mgmt_client.create_queue(qname, max_delivery_count=10, dead_lettering_on_message_expiration=True)\n",
    "    print(\"Queue {} is created.\".format(qname))\n",
    "    print(\"\")\n",
    "\n",
    "\n",
    "def delete_queue(servicebus_mgmt_client, qname):\n",
    "    print(\"-- Delete Queue\")\n",
    "    servicebus_mgmt_client.delete_queue(qname)\n",
    "    print(\"Queue {} is deleted.\".format(qname))\n",
    "    print(\"\")\n",
    "\n",
    "\n",
    "def list_queues(servicebus_mgmt_client):\n",
    "    print(\"-- List Queues\")\n",
    "    for queue_properties in servicebus_mgmt_client.list_queues():\n",
    "        print(\"Queue Name:\", queue_properties.name)\n",
    "    print(\"\")\n",
    "\n",
    "\n",
    "def get_and_update_queue(servicebus_mgmt_client, qname):\n",
    "    print(\"-- Get and Update Queue\")\n",
    "    queue_properties = servicebus_mgmt_client.get_queue(qname)\n",
    "    print(\"Queue Name:\", queue_properties.name)\n",
    "    print(\"Queue Settings:\")\n",
    "    print(\"Auto Delete on Idle:\", queue_properties.auto_delete_on_idle)\n",
    "    print(\"Default Message Time to Live:\", queue_properties.default_message_time_to_live)\n",
    "    print(\"Dead Lettering on Message Expiration:\", queue_properties.dead_lettering_on_message_expiration)\n",
    "    print(\"Please refer to QueueDescription for complete available settings.\")\n",
    "    print(\"\")\n",
    "    # update by updating the properties in the model\n",
    "    queue_properties.max_delivery_count = 5\n",
    "    servicebus_mgmt_client.update_queue(queue_properties)\n",
    "\n",
    "    # update by passing keyword arguments\n",
    "    queue_properties = servicebus_mgmt_client.get_queue(qname)\n",
    "    servicebus_mgmt_client.update_queue(queue_properties, max_delivery_count=3)\n",
    "\n",
    "\n",
    "def get_queue_runtime_properties(servicebus_mgmt_client, qname):\n",
    "    print(\"-- Get Queue Runtime Properties\")\n",
    "    queue_runtime_properties = servicebus_mgmt_client.get_queue_runtime_properties(qname)\n",
    "    print(\"Queue Name:\", queue_runtime_properties.name)\n",
    "    print(\"Queue Runtime Properties:\")\n",
    "    print(\"Updated at:\", queue_runtime_properties.updated_at_utc)\n",
    "    print(\"Size in Bytes:\", queue_runtime_properties.size_in_bytes)\n",
    "    print(\"Message Count:\", queue_runtime_properties.total_message_count)\n",
    "    print(\"Active Message Count:\", queue_runtime_properties.active_message_count)\n",
    "    print(\"Scheduled Message Count:\", queue_runtime_properties.scheduled_message_count)\n",
    "    print(\"Dead-letter Message Count:\", queue_runtime_properties.dead_letter_message_count)\n",
    "    print(\"Please refer to QueueRuntimeProperties from complete available runtime properties.\")\n",
    "    print(\"\")\n",
    "\n",
    "\n",
    "def init_az_rpc(self,CONNECTION_STR):\n",
    "    self.servicebus_mgmt_client = ServiceBusAdministrationClient.from_connection_string(CONNECTION_STR)\n",
    "    self.service_bus_message_client = ServiceBusClient.from_connection_string(conn_str=CONNECTION_STR, logging_enable=True)\n",
    "    \n",
    "def create_queue(servicebus_mgmt_client, qname):\n",
    "    print(\"-- Create Queue\")\n",
    "    #qname = qname + \"_\" + QUEUE_ID\n",
    "    servicebus_mgmt_client.create_queue(qname, max_delivery_count=10, dead_lettering_on_message_expiration=True)\n",
    "    print(\"Queue {} is created.\".format(qname))\n",
    "    print(\"\")\n",
    "    \n",
    "def send_simple_message(service_bus_client, qname, message):\n",
    "    sender = service_bus_client.get_queue_sender(queue_name=qname)\n",
    "    sender.send_messages(message)\n",
    "    print(\"Sent a single message\")\n",
    "    \n",
    "def send_rpc_message(service_bus_client, qname, rpc_message):\n",
    "    sender = service_bus_client.get_queue_sender(queue_name=qname)\n",
    "    sender.send_messages(message)\n",
    "    print f\"(Sent RPC awaiting reply from queue: {qname}...)\"\n",
    "\n",
    "def new_rpc_message(msg_body, session_id, replyto, corolationID, lable):\n",
    "    message = ServiceBusMessage(\n",
    "    msg_body,\n",
    "    session_id = session_id,\n",
    "    replyto = replyto,\n",
    "    corolationID = corolationID\n",
    "    application_properties = {'placeholdermetadata': 'custom_data_example'},\n",
    "    time_to_live = datetime.timedelta(seconds=30),\n",
    "    label=label\n",
    "    return message\n",
    ")\n",
    "    "
   ]
  },
  {
   "cell_type": "code",
   "execution_count": null,
   "id": "4aec6821",
   "metadata": {},
   "outputs": [],
   "source": [
    "message = ServiceBusMessage(\n",
    "    \"Hello World!!\",\n",
    "    session_id=\"MySessionID\",\n",
    "    application_properties={'data': 'custom_data'},\n",
    "    time_to_live=datetime.timedelta(seconds=30),\n",
    "    label='MyLabel'\n",
    ")"
   ]
  },
  {
   "cell_type": "markdown",
   "id": "0476ad30",
   "metadata": {},
   "source": [
    " Simple request/reply:\n",
    "        A publisher sends a message into a queue and expects a reply from the message consumer.\n",
    "        To receive the reply, the publisher owns a queue into which it expects replies to be delivered. \n",
    "        The address of that queue is expressed in the ReplyTo property of the outbound message. \n",
    "        When the consumer responds, it copies the MessageId of the handled message into \n",
    "        the CorrelationId property of the reply message and delivers the message to the destination\n",
    "        indicated by the ReplyTo property. One message can yield multiple replies, \n",
    "        depending on the application context.\n",
    "    "
   ]
  },
  {
   "cell_type": "code",
   "execution_count": 3,
   "id": "48c56dd9",
   "metadata": {},
   "outputs": [],
   "source": [
    "#sending function\n",
    "\n",
    "\n",
    "def send_single_message(service_bus_client, qname, message):\n",
    "    sender = service_bus_client.get_queue_sender(queue_name=qname)\n",
    "    sender.send_messages(message)\n",
    "    print(\"Sent a single message\")\n",
    "\n"
   ]
  },
  {
   "cell_type": "code",
   "execution_count": 6,
   "id": "bd0b4cef",
   "metadata": {},
   "outputs": [
    {
     "name": "stdout",
     "output_type": "stream",
     "text": [
      "Sent a single message\n"
     ]
    }
   ],
   "source": [
    "service_bus_client = ServiceBusClient.from_connection_string(conn_str=CONNECTION_STR, logging_enable=True)\n",
    "qname = \"chum1903q\"\n",
    "messtxt = (f\"This is the 8th chum message on Azure! Sent to queue {qname}\")\n",
    "message = ServiceBusMessage(messtxt)\n",
    "send_single_message(service_bus_client, qname, message)\n"
   ]
  },
  {
   "cell_type": "code",
   "execution_count": 7,
   "id": "05b3fd62",
   "metadata": {},
   "outputs": [
    {
     "name": "stdout",
     "output_type": "stream",
     "text": [
      "Received: This is the sixth chum message on Azure! Sent to queue chum1903q\n",
      "Received: This is the 7th chum message on Azure! Sent to queue chum1903q\n",
      "Received: This is the 8th chum message on Azure! Sent to queue chum1903q\n"
     ]
    },
    {
     "name": "stderr",
     "output_type": "stream",
     "text": [
      "ConnectionClose(\"ErrorCodes.ConnectionCloseForced: The connection was inactive for more than the allowed 300000 milliseconds and is closed by container 'LinkTracker'. TrackingId:4f748a1b683f42afa2f9e5e50a9933d0_G4, SystemTracker:gateway7, Timestamp:2022-06-16T14:00:07\")\n",
      "ConnectionClose(\"ErrorCodes.ConnectionCloseForced: The connection was inactive for more than the allowed 300000 milliseconds and is closed by container 'LinkTracker'. TrackingId:a292b193a4eb49b48d508211a2f50146_G39, SystemTracker:gateway7, Timestamp:2022-06-16T14:01:12\")\n",
      "ConnectionClose(\"ErrorCodes.ConnectionCloseForced: The connection was inactive for more than the allowed 300000 milliseconds and is closed by container 'LinkTracker'. TrackingId:a98b5d99215244d0a048c51e26ff9702_G17, SystemTracker:gateway7, Timestamp:2022-06-16T14:01:16\")\n",
      "ConnectionClose('ErrorCodes.UnknownError: Connection in an unexpected error state.')\n"
     ]
    }
   ],
   "source": [
    "#receiver functions\n",
    "\n",
    "qname = \"chum1903q\"\n",
    "\n",
    "receiver = service_bus_client.get_queue_receiver(queue_name=qname, max_wait_time=5)\n",
    "for msg in receiver:\n",
    "    print(\"Received: \" + str(msg))\n",
    "    receiver.complete_message(msg)"
   ]
  },
  {
   "cell_type": "code",
   "execution_count": null,
   "id": "cfcacdef",
   "metadata": {},
   "outputs": [],
   "source": [
    "sharkfinMQAdminclient = ServiceBusAdministrationClient.from_connection_string(CONNECTION_STR)\n",
    "containerID = \"chum1903q\"\n",
    "create_queue(sharkfinMQAdminclient, containerID)\n"
   ]
  },
  {
   "cell_type": "code",
   "execution_count": null,
   "id": "aa63e337",
   "metadata": {},
   "outputs": [],
   "source": [
    "#get_and_update_queue(sharkfinMQAdminclient)\n",
    "#delete_queue(sharkfinMQAdminclient)"
   ]
  },
  {
   "cell_type": "code",
   "execution_count": null,
   "id": "ccf87b54",
   "metadata": {},
   "outputs": [],
   "source": [
    "list_queues(sharkfinMQAdminclient)"
   ]
  },
  {
   "cell_type": "code",
   "execution_count": null,
   "id": "4c86dd9c",
   "metadata": {},
   "outputs": [],
   "source": [
    "get_queue_runtime_properties(sharkfinMQAdminclient, containerID)"
   ]
  },
  {
   "cell_type": "code",
   "execution_count": null,
   "id": "1c938a54",
   "metadata": {},
   "outputs": [],
   "source": []
  },
  {
   "cell_type": "code",
   "execution_count": null,
   "id": "c599ac61",
   "metadata": {},
   "outputs": [],
   "source": [
    "sharkfinMQMessageClient = ServiceBusClient.from_connection_string(CONNECTION_STR)\n",
    "client.get_queue_sender(queue_name) as sender:\n",
    "        # Sending a single message\n",
    "        single_message = ServiceBusMessage(\"Single message\")\n",
    "        sender.send_messages(single_message)\n",
    "\n",
    "        # Sending a list of messages\n",
    "        messages = [ServiceBusMessage(\"First message\"), ServiceBusMessage(\"Second message\")]\n",
    "        sender.send_messages(messages)"
   ]
  },
  {
   "cell_type": "code",
   "execution_count": null,
   "id": "dd09fc63",
   "metadata": {},
   "outputs": [],
   "source": [
    "ServiceBusMessage.__dict__"
   ]
  }
 ],
 "metadata": {
  "kernelspec": {
   "display_name": "Python 3 (ipykernel)",
   "language": "python",
   "name": "python3"
  },
  "language_info": {
   "codemirror_mode": {
    "name": "ipython",
    "version": 3
   },
   "file_extension": ".py",
   "mimetype": "text/x-python",
   "name": "python",
   "nbconvert_exporter": "python",
   "pygments_lexer": "ipython3",
   "version": "3.9.9"
  }
 },
 "nbformat": 4,
 "nbformat_minor": 5
}
