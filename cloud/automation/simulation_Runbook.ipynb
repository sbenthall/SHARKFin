{
 "cells": [
  {
   "cell_type": "markdown",
   "id": "92d93d34-87bb-41ac-af8f-a5106737fb3b",
   "metadata": {},
   "source": [
    "#  Simulation Runner for SparkShark AMMPS Simulation - v0.0.1"
   ]
  },
  {
   "cell_type": "markdown",
   "id": "0b97aa03-3f7b-4908-846a-2063dbe29830",
   "metadata": {},
   "source": [
    "## Aim  \n",
    "We will test that the ammps market can produce results that are in agreement with the Lucas asset pricing model. When the market makers have market maker Lucas factor = 1 they will only consider the dividend for pricing, while if it's 0 they will only consider their inventory. moving the factor away from 1 should create deviations from the Lucas pricing model. Even when the factor is 0 we will expect some degree of alignment between the prices and the Lucas pricing model as the institutional investors are using the Lucas pricing model too.  \n",
    "  \n",
    "While the institutional investors are Lucas asset pricers, they have some dispersion of their fair price. This is set by the inst_val_std parameter. We want to see how that dispersion affect the prices and trading.  \n",
    "  \n",
    "## Setup  \n",
    "\n",
    "\n",
    "## Static parameters\n",
    "\n",
    "### SHARKFin\n",
    " --quarters 4\n",
    " --expectations InferentialExpectations\n",
    " --expectations ClientRPCMarket\n",
    "\n",
    "(use the default CRRA, DiscFac, dividend growth rate and dividend std, p1, p2, AttentionSimulation, LUCAS0 population)\n",
    "\n",
    "\n",
    "### AMMPS\n",
    " -days parameter to 240 to simulate a \"sharkfin year\".\n",
    " Grid - Variation:\n",
    "\n",
    "\n",
    "Less MM Lucas factor, more II variation, more attention, higher zeta, higher dphm all contribute to the collapse of the financial system.\n",
    "Other notes\n",
    "\n",
    "We will continue to use the stripped down version of AMMPs with only MM, II, the Broker, and noise traders. This should have 30 minute runtime, but won't reproduce stylized facts of the stock market.\n",
    "\n",
    "### AMMPS:  \n",
    "As usual get the latest binaries from the master branch of ammps_sharkfin_container  \n",
    "  \n",
    "AMMPS comes with a number of new runtime options for outputs.  \n",
    "  \n",
    "The most important is the -c option, if it is set to true the logger write a compressed csv file. This saves a large amount of space and avoids us having to compress later. This comes with a small overhead on the cpu but if we are aiming for 1.1 core per simulation we should be covered.  \n",
    "  \n",
    "A second new option that might be useful is the -p option that adds a prefix to the logs written by ammps.  \n",
    "  \n",
    "For running a Lucas shark simulation with ammps only, we need to set an option to simulate a connection with SHARKfin this is done by setting the -s option to true. This option also comes with the -v and -d options that control the daily volume passed to the broker institutions simulating volume from the consumers in SHARKFin. In this case we just set both to 0.0. When using this option there should be no option to specify a RPC host etc.  \n",
    "  \n",
    "For running a Lucas Shark 0 simulation with ammps only we need to run:  \n",
    "  \n",
    "`dotnet [path_to]amm.engine.dll RunConfFromFile config_file output_directory -n unique_id_number [-c true] -s true -v 0.0 -d 0.0 [-p prefix]`  \n",
    "  \n",
    "I suggest using the compression option. Prefix option can be left out if you don't think it is usefull.  \n",
    "  \n",
    "### AMMPS Configuration Generator  \n",
    "The ammps configuration generator generates a configuration file for the specific ammps simulation, this contains simulation specific parameters such as the period to be simulated, the random seed to be used, and the configurations for the agents in the simulations. It is now packed as a python package that can be installed in a python environment, or the scripts can be run using python.  \n",
    "  \n",
    "Scripts for generating the configs is found in the acg/simulations subdir.  \n",
    "  \n",
    "For the Lucas shark tests we need to run  \n",
    "  \n",
    "`make_lucas_shark_config.py [-h] [--out-dir CONF_DIR] --name RUN_NAME --seed SEED [--days NUMBER_OF_DAYS] --mm_lucas_factor MM_LUCAS_FACTOR [--mm_size MM_SIZE] [--inst_val_std DIVIDEND_VAL_STD]`  \n",
    "  \n",
    "The new options are --mm_lucas_factor MM_LUCAS_FACTOR [--mm_size MM_SIZE] [--inst_val_std DIVIDEND_VAL_STD]  \n",
    "  \n",
    "### Simulation Grid  \n",
    "We want to test a simulation grid where we change mm_lucas_factor and inst_val_std, attention, dphm, zeta, pop_aNrmInitMean and seed.  \n",
    "  \n",
    "\n",
    "### AMMPS parameters:\n",
    "\n",
    "  mm_lucas_factor =[0.0, 0.05, 0.15, 1.0]\n",
    "  inst_val_std = [0.1,0.15, 0.2]\n",
    "\n",
    "### SHARKFin parameters:\n",
    "\n",
    " attention = [0.005, 0.015, 0.05]\n",
    " dphm = [1000, 5000, 10000]\n",
    " zeta = [0, 0.3, .7, 1.0]\n",
    " pop_aNrmInitMean =  [5, 6, 7]\n",
    "\n",
    "\n"
   ]
  },
  {
   "cell_type": "markdown",
   "id": "303a5c73-f474-4f35-b940-591a606911d7",
   "metadata": {
    "tags": []
   },
   "source": [
    "## Configure Parameters"
   ]
  },
  {
   "cell_type": "code",
   "execution_count": null,
   "id": "9ff740ec-af3f-4b28-9125-6fd1a6d4d06b",
   "metadata": {},
   "outputs": [],
   "source": [
    "from simRunner import *\n",
    "from simConfigs import *\n",
    "#experiment parameters\n",
    "experimentName='sparkshark'\n",
    "tag ='rpc'\n",
    "quarters=4\n",
    "#Replicant Parameters:\n",
    "seedcount=20\n",
    "seedKey=6174\n",
    "mmLucasFactors =[0.0, 0.05, 0.15, 1.0] \n",
    "instValStds = [0.1, 0.15, 0.2]\n",
    "attention_values = [0.005, 0.015, 0.05]\n",
    "dphms = [1000, 5000, 10000]\n",
    "zetas = [0, 0.3, .7, 1.0]\n",
    "pop_aNrmInitMeans =  [5, 6, 7]\n",
    "rpc_host = '20.230.0.191'\n",
    "quarters=4\n",
    "cyclecloud='13.92.241.145'\n",
    "finsim = '13.68.182.99'\n",
    "user = 'ammpssharkfin'\n",
    "simengine = 'simEngine.pem'"
   ]
  },
  {
   "cell_type": "code",
   "execution_count": null,
   "id": "63380b2a-ee72-45cb-8964-1fd6dc42a8c3",
   "metadata": {
    "tags": []
   },
   "outputs": [],
   "source": [
    "print(experimentName)\n",
    "#!az login\n",
    "#!Connect-AzAccount \n",
    "#!az login --use-device-code`"
   ]
  },
  {
   "cell_type": "markdown",
   "id": "a78b601e-466a-42af-ad8c-95cff406097e",
   "metadata": {},
   "source": [
    "## Build Simulation Objects"
   ]
  },
  {
   "cell_type": "code",
   "execution_count": null,
   "id": "176cb9b6-aaf9-43b5-b7e4-82eab0816800",
   "metadata": {},
   "outputs": [],
   "source": [
    "#create entities in python list\n",
    "\n",
    "simEntities = build_lucasShark_configs(experimentName,seedcount,seedKey,rpc_host,mmLucasFactors,instValStds,attention_values,dphms,zetas,quarters,tag)\n",
    "simcount = len(simEntities)\n"
   ]
  },
  {
   "cell_type": "markdown",
   "id": "0dbbb754-4437-4d37-952f-f86986c1c27c",
   "metadata": {},
   "source": [
    "## Load Simulation Objects in Azure Tables"
   ]
  },
  {
   "cell_type": "code",
   "execution_count": null,
   "id": "50bd6d4b-0b6f-4ad4-9ea4-5c179abed8cc",
   "metadata": {
    "tags": []
   },
   "outputs": [],
   "source": [
    "simcount"
   ]
  },
  {
   "cell_type": "code",
   "execution_count": null,
   "id": "09c1a3e5-1fec-4e1e-890e-e15ddb40c245",
   "metadata": {
    "tags": []
   },
   "outputs": [],
   "source": [
    "#!az login\n",
    "vaultName = 'sharkfinkv'\n",
    "#names of needed secerts and keys - These can be located/updated here  ----> sharkfinkv.vault.azure.net\n",
    "connectionName = 'simulationdataConnectionString'\n",
    "#create table\n",
    "newTable = create_table(experimentName,vaultName,connectionName)\n",
    "#create a simulation grid clss object to store the simulation configurations\n",
    "simTable = simulationGrid(experimentName, vaultName, connectionName)\n"
   ]
  },
  {
   "cell_type": "code",
   "execution_count": null,
   "id": "f63bf967-965e-42f6-ad55-4ab247c0d128",
   "metadata": {
    "tags": []
   },
   "outputs": [],
   "source": [
    "#create entities in Azure Table (csv list)\n",
    "for sim in simEntities:\n",
    "    create_table_entity(simTable,sim)"
   ]
  },
  {
   "cell_type": "code",
   "execution_count": null,
   "id": "1fb9ec0c-d320-45d3-85c3-7dfe6b3f1e81",
   "metadata": {
    "tags": []
   },
   "outputs": [],
   "source": [
    "sim1 = list(iter(simTable.simulations))"
   ]
  },
  {
   "cell_type": "code",
   "execution_count": null,
   "id": "557ad3c7-6098-4d44-9cdb-335819374dc8",
   "metadata": {},
   "outputs": [],
   "source": [
    "getSim(experimentName,'1')"
   ]
  },
  {
   "cell_type": "code",
   "execution_count": null,
   "id": "d692eb5b-712a-49aa-be1a-7588335c3c1c",
   "metadata": {
    "tags": []
   },
   "outputs": [],
   "source": []
  },
  {
   "cell_type": "markdown",
   "id": "d9720678-5c84-477a-a8e9-41b27bd32e23",
   "metadata": {
    "tags": []
   },
   "source": [
    "### View the simulations as a Datafram using the following cell."
   ]
  },
  {
   "cell_type": "code",
   "execution_count": null,
   "id": "40fd4f13-c21a-4fe2-babc-cc60ada8829b",
   "metadata": {
    "tags": []
   },
   "outputs": [],
   "source": [
    "\n",
    "#retrives entities from Table\n",
    "simgrid = simulationGrid(experimentName,vaultName,connectionName)\n",
    "entities = simgrid.table_client.list_entities()\n",
    "tableEntities = list(entities)\n",
    "print(f\"Located {len(tableEntities)} entities.\")\n",
    "\n",
    "edf = pd.DataFrame(tableEntities)\n",
    "print(edf.info())\n",
    "print(edf.head())\n",
    "\n",
    "for key in tableEntities[1]:\n",
    "    print(f\"{key}={tableEntities[2][key]}\")\n"
   ]
  },
  {
   "cell_type": "code",
   "execution_count": null,
   "id": "11f158b2-532d-44dd-8d92-f77d78a4add4",
   "metadata": {
    "tags": []
   },
   "outputs": [],
   "source": [
    "edf.to_csv('/Users/wjt5121/SharkSIM/lucasShark10parametergrid.csv')"
   ]
  },
  {
   "cell_type": "code",
   "execution_count": null,
   "id": "94fa6c65-2371-47ae-8c6c-54bd1c098cdf",
   "metadata": {
    "tags": []
   },
   "outputs": [],
   "source": [
    "edf = pd.DataFrame(simEntities)\n",
    "print(edf.info())\n",
    "print(edf.head())\n",
    "#display item details from Azure table\n",
    "#edf.loc[2]['start_sharkfin_cmd']\n",
    "#edf.loc[edf['simid'] == 2]\n"
   ]
  },
  {
   "cell_type": "code",
   "execution_count": null,
   "id": "a2e8fc16-dff8-44b3-a11d-0964421ee079",
   "metadata": {
    "tags": []
   },
   "outputs": [],
   "source": [
    "experimentName='lucasShark10'\n",
    "getSim(experimentName,'1')"
   ]
  },
  {
   "cell_type": "code",
   "execution_count": null,
   "id": "7816bb25-37b9-467a-8930-4b47cc67d281",
   "metadata": {},
   "outputs": [],
   "source": [
    "os.getcwd()"
   ]
  },
  {
   "cell_type": "code",
   "execution_count": null,
   "id": "0b5a01d9-5e2d-40e8-b239-04c8caf8e6af",
   "metadata": {},
   "outputs": [],
   "source": []
  },
  {
   "cell_type": "markdown",
   "id": "8a8c9a4b-0812-4353-ae9f-c5d01473fb87",
   "metadata": {
    "tags": []
   },
   "source": [
    "## Connect/Verify Slurm Cluster size/availabilty\n",
    "\n",
    "* **CycleServer: https://13.92.241.145/home **\n",
    "    * [Username/Passord: ammpssharkfin ammpsshrk1qaz@WSX\n",
    "  PEM key is simEngine.pem  \n",
    "Update the address and PEM key for your scheduler and in the next cell and test communication.\n"
   ]
  },
  {
   "cell_type": "code",
   "execution_count": null,
   "id": "3b73ebb8-6d8b-413c-a929-3dff6215fe07",
   "metadata": {
    "tags": []
   },
   "outputs": [],
   "source": [
    "cyclecloud='13.92.241.145'\n",
    "finsim = '74.235.18.47'\n",
    "user = 'ammpssharkfin'\n",
    "simengine = 'simEngine.pem'\n",
    "toolspath = 'copy_files_to_blob.py'"
   ]
  },
  {
   "cell_type": "code",
   "execution_count": null,
   "id": "da9ef72a-5ed8-4b18-b5cd-269f9e52870d",
   "metadata": {},
   "outputs": [],
   "source": []
  },
  {
   "cell_type": "code",
   "execution_count": null,
   "id": "2ee0ee5e-587b-43da-b6b2-1ce72f3ad524",
   "metadata": {},
   "outputs": [],
   "source": []
  },
  {
   "cell_type": "markdown",
   "id": "c7b354b2-7d67-479f-ac15-be495f38be2d",
   "metadata": {},
   "source": [
    "## Push node configuration and Requirements files to the Slurm scheduler\n",
    "###Nodes are configured with a start-up script which is stored on the CucleCloud server in this location. -> /opt/cycle_server/work/staging/projects/slurm/2.6.2/default/cluster-init/scripts) \n",
    "\n",
    "The requirments.txt file is located here -> /opt/cycle_server/work/staging/projects/slurm/2.6.2/default/cluster-init/files/requirments.txt"
   ]
  },
  {
   "cell_type": "code",
   "execution_count": null,
   "id": "c1a73e79-f7e6-4443-9d39-e5fd0ca563c7",
   "metadata": {},
   "outputs": [],
   "source": [
    "\n",
    "sbatchLocalPath = f'{experimentName}job.sh'\n",
    "sbatchRemotePath = f'/shared/home/ammpssharkfin/{experimentName}job.sh'\n",
    "\n",
    "runnerLocalPath = 'slurmRunnerLucasSharkStats.py'\n",
    "runnerRemotePath = '/shared/home/ammpssharkfin/slurmRunnerstats.py'\n",
    "\n",
    "clusterInitLocalPath = ''\n",
    "clusterInitPath = '/opt/cycle_server/work/staging/projects/slurm/2.6.2/default/cluster-init/scripts/'\n",
    "clusterInitLogPath = '/opt/cycle/jetpack/logs/cluster-init/slurm/default/scripts/'\n",
    "requirementsLocalPath = 'requirements.txt'\n",
    "requirmentsPath = '/shared/home/ammpssharkfin/'\n",
    "\n",
    "configFile = '01-os-config-alma-linux.sh'\n",
    "simengine = 'simEngine.pem'\n",
    "\n",
    "toolspath = 'copy_files_to_blob.py'\n",
    "toolsRemotePath = '/shared/home/ammpssharkfin/copy_files_to_blob.py'\n"
   ]
  },
  {
   "cell_type": "code",
   "execution_count": null,
   "id": "11f659c9-30a3-4239-b4c1-10911e560c1b",
   "metadata": {},
   "outputs": [],
   "source": [
    "#Runs the getScheduleStatus function to validate connectivity to the the scheduler.\n",
    "getSchedulerStatus(finsim, simengine, user)"
   ]
  },
  {
   "cell_type": "markdown",
   "id": "c63e4024-28e1-44bb-bda1-d9a458863b10",
   "metadata": {},
   "source": [
    "### Create the Output directories"
   ]
  },
  {
   "cell_type": "code",
   "execution_count": null,
   "id": "e4af4e5a-de5d-4fc5-9cd3-2cf84da45d15",
   "metadata": {
    "tags": []
   },
   "outputs": [],
   "source": [
    "#outdir = f'{experimentName}_output'\n",
    "outdir = 'output'\n",
    "cmd = f'mkdir {outdir};mkdir {outdir}/logs;mkdir {outdir}/logs/slurm; mkdir {outdir}/logs/sharkfin; mkdir {outdir}/logs/ammps_conf; mkdir {outdir}/logs/ammps'\n",
    "#create initial directory structure on new scheduler\n",
    "#cmd = 'mkdir output;mkdir output/logs;mkdir output/logs/slurm; mkdir output/logs/sharkfin; mkdir output/logs/ammps_conf; mkdir output/logs/ammps'\n",
    "#cmd = 'ls -R output'\n",
    "print(cmd)\n",
    "run_cmd_remote(finsim, user, simengine, cmd)"
   ]
  },
  {
   "cell_type": "markdown",
   "id": "37ef36b7-9ec8-407d-ba4c-65c4dec41946",
   "metadata": {},
   "source": [
    "### Push SlurmRunner script to scheduler"
   ]
  },
  {
   "cell_type": "code",
   "execution_count": null,
   "id": "729a9889-64fd-4372-a413-b814d09752b8",
   "metadata": {},
   "outputs": [],
   "source": [
    "print(runnerLocalPath)\n",
    "#copy approriate slurmRunner.py for experiment. sharkFin/ammps vs ammps vs sharkFin\n",
    "sendslurm = submit_file_to_remote(finsim, user, simengine, runnerLocalPath, runnerRemotePath, execute=False)"
   ]
  },
  {
   "cell_type": "markdown",
   "id": "7a534952-2f54-41d5-8ac7-9df25804d9b9",
   "metadata": {},
   "source": [
    "### Copy tools if required"
   ]
  },
  {
   "cell_type": "code",
   "execution_count": null,
   "id": "264715db-c6e9-4fe0-8744-1c118726c64a",
   "metadata": {},
   "outputs": [],
   "source": [
    "print(toolspath)\n",
    "#copy approriate slurmRunner.py for experiment. sharkFin/ammps vs ammps vs sharkFin\n",
    "sendslurm = submit_file_to_remote(finsim, user, simengine, toolspath, toolsRemotePath, execute=False)"
   ]
  },
  {
   "cell_type": "markdown",
   "id": "6ac1c17a-d7ae-48c9-a28d-efb845cb66ea",
   "metadata": {},
   "source": [
    "### Push Requirements File to Scheduler"
   ]
  },
  {
   "cell_type": "code",
   "execution_count": null,
   "id": "81cbe70c-10fd-421d-80dc-ee4108623437",
   "metadata": {
    "tags": []
   },
   "outputs": [],
   "source": [
    "#copy requirements.txt file to share \n",
    "sendslurm = submit_file_to_remote(lucashark, user, simengine, requirementsLocalPath, requirmentsPath, execute=False)"
   ]
  },
  {
   "cell_type": "markdown",
   "id": "33da0aca-55d6-4162-a608-dbfb7f9fce14",
   "metadata": {
    "tags": []
   },
   "source": [
    "# Verify connection to the Scheduler and submit simulations jobs to Slurm Scheduler"
   ]
  },
  {
   "cell_type": "markdown",
   "id": "5747cdf7-5ac2-4072-8a02-be5cd87f0360",
   "metadata": {},
   "source": [
    "### Generate the 'sbatch' script to submit the jobs to Slurm Scheduler"
   ]
  },
  {
   "cell_type": "code",
   "execution_count": null,
   "id": "e73bbd42-2ddf-4255-b278-454c26c820b0",
   "metadata": {},
   "outputs": [],
   "source": [
    "#this function will create a sbatch script job,simcount is the number of simulation in the array you would like to run. \n",
    "job_cmd = generate_slurm_job(experimentName, simcount)\n",
    "print(job_cmd)\n",
    "print(sbatchLocalPath)"
   ]
  },
  {
   "cell_type": "markdown",
   "id": "4d1b1214-796d-4f50-82ff-15125fe0021f",
   "metadata": {},
   "source": [
    "### Push 'sbatch' script to scheduler and execute."
   ]
  },
  {
   "cell_type": "code",
   "execution_count": null,
   "id": "3dcb41c0-74d3-40cd-a5f6-ef4c4bbc641d",
   "metadata": {},
   "outputs": [],
   "source": [
    "#create sbatch script used to execute simulation on slurm clustrer. if execute option is True jobs will be submited. \n",
    "out, err = submit_file_to_remote(finsim, user, simengine, sbatchLocalPath, sbatchRemotePath, execute=True)"
   ]
  },
  {
   "cell_type": "code",
   "execution_count": null,
   "id": "50dad7f0-c464-462b-ba43-dbc2a1ceebab",
   "metadata": {},
   "outputs": [],
   "source": [
    "if out:print(out)\n",
    "if err:print(err)"
   ]
  },
  {
   "cell_type": "code",
   "execution_count": null,
   "id": "7796fd8c-7d87-445d-b8bf-235bb5ae3113",
   "metadata": {},
   "outputs": [],
   "source": []
  },
  {
   "cell_type": "markdown",
   "id": "6903ae2c-1044-4575-b251-0e58afbf1aa3",
   "metadata": {},
   "source": [
    "#todo Scheduler init needs to have creation of output and logs directories.\n",
    "\n",
    "-Azure CycleCloud Server - Provides the Compute in the form of Slurm Clusters\n",
    "-Slurm HPC Clusters\n",
    "-Azure Storage Account - Blob and Files\n",
    "\n",
    "-Customization script to config cluster nodes (located here -> /opt/cycle_server/work/staging/projects/slurm/2.6.2/default/cluster-init/scripts)\n",
    "    -Linux VM w/ Python3.9 + requirements.txt \n",
    "    -requirments.txt is located here -> /opt/cycle_server/work/staging/projects/slurm/2.6.2/default/cluster-init/files/requirments.txt\n",
    "    -Cloning of the follow git repos\n",
    "        https://github.com/mesalas/ammps_sharkfin_container.git /usr/simulation/ammps_bin    \n",
    "        https://github.com/mesalas/ammps_config_generator /usr/simulation/ammps_config_generator\n",
    "        https://github.com/sbenthall/SHARKFin /usr/simulation/SHARKFin/\n",
    "        https://github.com/econ-ark/HARK.git /usr/simulation/harkrepo\n",
    "        Note we must recopy the hark files - (investigate checking out the branch'sudo -H cp -Rf /usr/simulation/harkrepo/HARK/ /shared/home/ammpssharkfin/.local/lib/python3.9/site-packages/\n",
    "\n"
   ]
  },
  {
   "cell_type": "markdown",
   "id": "f90c9a7d-7bab-4854-9330-35108ff7ebd4",
   "metadata": {},
   "source": [
    "### Use the generate_slurm_job function to configure the slurm job script used issue the simulation jobs to the scheduler."
   ]
  },
  {
   "cell_type": "markdown",
   "id": "e2138b3a-9a66-4219-a84a-c15f69302e62",
   "metadata": {},
   "source": [
    "## Monitor simulation progress"
   ]
  },
  {
   "cell_type": "markdown",
   "id": "d2fb98d9-acdf-442e-8a2b-5de825c930e5",
   "metadata": {},
   "source": [
    "## Process simulation output"
   ]
  },
  {
   "cell_type": "markdown",
   "id": "f656ca23-7583-484b-87e4-227037bf1c94",
   "metadata": {},
   "source": [
    "### Load SimStat and ClassStats as Dataframes"
   ]
  },
  {
   "cell_type": "code",
   "execution_count": null,
   "id": "c70cd87f-2e45-482f-9949-00d9a139268f",
   "metadata": {},
   "outputs": [],
   "source": [
    "# Example usage\n",
    "simID = 400\n",
    "experimentName = 'lucasShark10'\n",
    "container = 'lucashark10'\n",
    "simStatsSuffix =  '_sim_stats.txt'\n",
    "tag = 'rpc'\n",
    "simStatsFile = f'{experimentName}{simID}-{tag}{simStatsSuffix}'\n",
    "\n",
    "#print(classStatsFile)\n",
    "classdf = load_simStats_file_from_container(container, simStatsFile)\n",
    "#classdf.head()"
   ]
  },
  {
   "cell_type": "markdown",
   "id": "fb993a88-a282-43c4-864f-7b603e5a1aa8",
   "metadata": {},
   "source": [
    "## Visualize Results from Experiment Grid"
   ]
  },
  {
   "cell_type": "code",
   "execution_count": null,
   "id": "d8cf3c0e-6a8e-4568-b26a-96f232df2b71",
   "metadata": {
    "tags": []
   },
   "outputs": [],
   "source": [
    "\n",
    "#retrives entities from Table\n",
    "simgrid = simulationGrid(experimentName,vaultName,connectionName)\n",
    "entities = simgrid.table_client.list_entities()\n",
    "tableEntities = list(entities)\n",
    "print(f\"Located {len(tableEntities)} entities. Loading dataframe\")\n",
    "\n",
    "edf = pd.DataFrame(tableEntities)\n",
    "print(edf.info())\n",
    "print(edf.head())\n"
   ]
  },
  {
   "cell_type": "code",
   "execution_count": null,
   "id": "2c039090-d622-4eaf-b28b-2feb9fce92ec",
   "metadata": {},
   "outputs": [],
   "source": [
    "simgrid.__dict__"
   ]
  },
  {
   "cell_type": "markdown",
   "id": "40f4de93-f8c2-4c74-b6ba-0824f6ff3f98",
   "metadata": {},
   "source": [
    "### Display values for a simulation"
   ]
  },
  {
   "cell_type": "code",
   "execution_count": null,
   "id": "c4e6489b-4a35-4635-9ee7-55e8a66d8dbb",
   "metadata": {
    "tags": []
   },
   "outputs": [],
   "source": [
    "tableEntities"
   ]
  },
  {
   "cell_type": "code",
   "execution_count": null,
   "id": "2da34832-d2cf-4f4b-ab67-9caeb79b87a5",
   "metadata": {},
   "outputs": [],
   "source": []
  }
 ],
 "metadata": {
  "kernelspec": {
   "display_name": "Python 3 (ipykernel)",
   "language": "python",
   "name": "python3"
  },
  "language_info": {
   "codemirror_mode": {
    "name": "ipython",
    "version": 3
   },
   "file_extension": ".py",
   "mimetype": "text/x-python",
   "name": "python",
   "nbconvert_exporter": "python",
   "pygments_lexer": "ipython3",
   "version": "3.9.9"
  }
 },
 "nbformat": 4,
 "nbformat_minor": 5
}
